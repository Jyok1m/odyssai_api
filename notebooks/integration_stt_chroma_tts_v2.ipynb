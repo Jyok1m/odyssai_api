{
 "cells": [
  {
   "cell_type": "code",
   "execution_count": 1,
   "id": "c1b82ffd",
   "metadata": {},
   "outputs": [
    {
     "name": "stdout",
     "output_type": "stream",
     "text": [
      "Note: you may need to restart the kernel to use updated packages.\n",
      "Note: you may need to restart the kernel to use updated packages.\n",
      "Note: you may need to restart the kernel to use updated packages.\n",
      "Note: you may need to restart the kernel to use updated packages.\n",
      "Note: you may need to restart the kernel to use updated packages.\n",
      "Note: you may need to restart the kernel to use updated packages.\n",
      "Note: you may need to restart the kernel to use updated packages.\n"
     ]
    }
   ],
   "source": [
    "%pip install -qU python-dotenv\n",
    "%pip install -qU langchain-openai langchain-community pydub librosa numpy uuid # Speech-To-Text\n",
    "%pip install -qU chromadb langchain-chroma # ChromaDB\n",
    "%pip install -qU google-cloud-texttospeech # Text-To-Speech"
   ]
  },
  {
   "cell_type": "markdown",
   "id": "cafe0c17",
   "metadata": {},
   "source": [
    "## Chromadb config"
   ]
  },
  {
   "cell_type": "code",
   "execution_count": 2,
   "id": "13478a4f",
   "metadata": {},
   "outputs": [],
   "source": [
    "import os\n",
    "import chromadb\n",
    "from langchain_openai import OpenAIEmbeddings\n",
    "from langchain_chroma import Chroma\n",
    "from dotenv import load_dotenv, find_dotenv\n",
    "\n",
    "load_dotenv(find_dotenv())\n",
    "\n",
    "def instanciate_chroma_client():\n",
    "    \"\"\"Instantiate the ChromaDB client.\"\"\"\n",
    "    return chromadb.CloudClient(\n",
    "        api_key=os.getenv(\"CHROMA_API_KEY\"),\n",
    "        tenant=os.getenv(\"CHROMA_TENANT\"),\n",
    "        database=os.getenv(\"CHROMA_DATABASE\")\n",
    "    )\n",
    "\n",
    "def get_chroma_collection(collection_name: str):\n",
    "    \"\"\"Get or create a ChromaDB collection.\"\"\"\n",
    "    return Chroma(\n",
    "        client=instanciate_chroma_client(),\n",
    "        embedding_function=OpenAIEmbeddings(model=\"text-embedding-3-small\"),\n",
    "        collection_name=collection_name,\n",
    "    )"
   ]
  },
  {
   "cell_type": "markdown",
   "id": "69fa8ada",
   "metadata": {},
   "source": [
    "## Speech-to-Text config"
   ]
  },
  {
   "cell_type": "code",
   "execution_count": 3,
   "id": "9ba18bf0",
   "metadata": {},
   "outputs": [],
   "source": [
    "from langchain_community.document_loaders.parsers.audio import OpenAIWhisperParser\n",
    "from langchain_community.document_loaders.generic import GenericLoader\n",
    "\n",
    "def instanciate_whisper():\n",
    "    \"\"\"Instantiate the OpenAI Whisper parser with the required parameters.\"\"\"\n",
    "    return OpenAIWhisperParser(\n",
    "        api_key=os.getenv('OPENAI_API_KEY'),\n",
    "        chunk_duration_threshold=0.7,  # Disregard audio chunks shorter than 0.7 seconds\n",
    "        language=\"fr\",  # Specify the language of the audio\n",
    "        response_format=\"text\",\n",
    "        temperature=0.0,  # Deterministic output\n",
    "        model=\"whisper-1\"\n",
    "    )\n",
    "\n",
    "def get_blob_parser(file_path: str):\n",
    "    \"\"\"Create a loader for the audio file.\"\"\"\n",
    "    parser = instanciate_whisper()\n",
    "    return GenericLoader.from_filesystem(\n",
    "        path=file_path,\n",
    "        parser=parser\n",
    "    )\n",
    "\n",
    "def get_transcription(file_path: str):\n",
    "    \"\"\"Load and transcribe the audio file.\"\"\"\n",
    "    loader = get_blob_parser(file_path)\n",
    "    docs = loader.load()\n",
    "    return docs"
   ]
  },
  {
   "cell_type": "markdown",
   "id": "5d450e39",
   "metadata": {},
   "source": [
    "## Save to ChromaDB"
   ]
  },
  {
   "cell_type": "code",
   "execution_count": 4,
   "id": "853c4d90",
   "metadata": {},
   "outputs": [],
   "source": [
    "from langchain_core.documents import Document\n",
    "from uuid import uuid4\n",
    "\n",
    "def save_to_chroma(docs, collection_name: str):\n",
    "    \"\"\"Save documents to a ChromaDB collection.\"\"\"\n",
    "    collection = get_chroma_collection(collection_name)\n",
    "    documents = []\n",
    "    docIds = []  # To ensure unique IDs\n",
    "\n",
    "    for doc in docs:\n",
    "        # Generate a unique ID for each document\n",
    "        unique_id = str(uuid4())\n",
    "        docIds.append(unique_id)\n",
    "\n",
    "        documents.append(\n",
    "            Document(\n",
    "                page_content=doc.page_content,\n",
    "                metadata={\n",
    "                    \"tag\": doc.metadata.get(\"source\", \"\"),\n",
    "                    \"id\": unique_id\n",
    "                }\n",
    "            )\n",
    "        )\n",
    "    \n",
    "    collection = get_chroma_collection(collection_name)\n",
    "    collection.add_documents(documents=documents, ids=docIds)\n",
    "\n",
    "    return print(f\"Saved {len(documents)} documents to ChromaDB collection '{collection_name}'\")"
   ]
  },
  {
   "cell_type": "markdown",
   "id": "06d717e2",
   "metadata": {},
   "source": [
    "## Retrieve from DB"
   ]
  },
  {
   "cell_type": "code",
   "execution_count": 5,
   "id": "00b45ad3",
   "metadata": {},
   "outputs": [],
   "source": [
    "def retrieve_from_chroma(query: str, collection_name: str, nResults: int = 1):\n",
    "    \"\"\"Retrieve documents from a ChromaDB collection based on a query.\"\"\"\n",
    "    collection = get_chroma_collection(collection_name)\n",
    "    retriever = collection.as_retriever(\n",
    "        search_type=\"mmr\", search_kwargs={\"k\": nResults, \"fetch_k\": nResults * 2}\n",
    "    )\n",
    "\n",
    "    query_res = retriever.invoke(input=query)\n",
    "\n",
    "    if not query_res:\n",
    "        return print(\"No results found for the query.\")\n",
    "    \n",
    "    return query_res[0].page_content"
   ]
  },
  {
   "cell_type": "markdown",
   "id": "99c6bcde",
   "metadata": {},
   "source": [
    "## Text-to-Speech config"
   ]
  },
  {
   "cell_type": "code",
   "execution_count": 6,
   "id": "1da7f204",
   "metadata": {},
   "outputs": [],
   "source": [
    "from google.cloud import texttospeech\n",
    "\n",
    "def instanciate_tts_client(credentials_path: str = \"../secrets/google_tts.json\"):\n",
    "    \"\"\"Instantiate the Google Text-to-Speech client.\"\"\"\n",
    "    os.environ[\"GOOGLE_APPLICATION_CREDENTIALS\"] = credentials_path\n",
    "    return texttospeech.TextToSpeechClient()\n",
    "\n",
    "def synthesize_speech(text: str):\n",
    "    \"\"\"Synthesize speech from text using Google Text-to-Speech.\"\"\"\n",
    "    client = instanciate_tts_client()\n",
    "\n",
    "    synthesis_input = texttospeech.SynthesisInput(text=text)\n",
    "\n",
    "    voice = texttospeech.VoiceSelectionParams(\n",
    "        language_code=\"fr-FR\",\n",
    "        name=\"fr-FR-Chirp3-HD-Charon\"\n",
    "    )\n",
    "\n",
    "    audio_config = texttospeech.AudioConfig(\n",
    "        audio_encoding=texttospeech.AudioEncoding.MP3\n",
    "    )\n",
    "\n",
    "    response = client.synthesize_speech(\n",
    "        input=synthesis_input,\n",
    "        voice=voice,\n",
    "        audio_config=audio_config\n",
    "    )\n",
    "\n",
    "    return response.audio_content\n",
    "\n",
    "def save_audio_to_file(audio_content, file_path: str):\n",
    "    \"\"\"Save the synthesized audio content to a file.\"\"\"\n",
    "    with open(file_path, \"wb\") as out:\n",
    "        out.write(audio_content)\n",
    "\n",
    "    return file_path"
   ]
  },
  {
   "cell_type": "markdown",
   "id": "abae1776",
   "metadata": {},
   "source": [
    "## Recording flow"
   ]
  },
  {
   "cell_type": "code",
   "execution_count": 7,
   "id": "2e06d901",
   "metadata": {},
   "outputs": [],
   "source": [
    "import sounddevice as sd\n",
    "import numpy as np\n",
    "import threading\n",
    "import queue\n",
    "from scipy.io.wavfile import write\n",
    "from uuid import uuid4\n",
    "\n",
    "# Global variables\n",
    "stream = None\n",
    "recording = []\n",
    "SAMPLERATE = 44100\n",
    "QUEUE = queue.Queue()\n",
    "FINAL_PATH = None\n",
    "\n",
    "def audio_callback(indata, frames, time, status):\n",
    "    \"\"\"Callback function to handle audio input.\"\"\"\n",
    "    QUEUE.put(indata.copy())\n",
    "\n",
    "def start_recording(button=None):\n",
    "    \"\"\"Start recording audio from the microphone.\"\"\"\n",
    "    global stream, recording, QUEUE\n",
    "    \n",
    "    # Reset recording and queue\n",
    "    recording = []\n",
    "    QUEUE = queue.Queue()\n",
    "\n",
    "    # Streaming start\n",
    "    stream = sd.InputStream(samplerate=SAMPLERATE, channels=1, callback=audio_callback)\n",
    "    stream.start()\n",
    "\n",
    "    # Function to append recording chunks\n",
    "    def collect():\n",
    "        while stream and stream.active:\n",
    "            try:\n",
    "                chunk = QUEUE.get(timeout=0.1)\n",
    "                recording.append(chunk)\n",
    "            except queue.Empty:\n",
    "                continue\n",
    "\n",
    "    # Start the recording\n",
    "    threading.Thread(target=collect, daemon=True).start()\n",
    "    print(\"Recording started...\")\n",
    "\n",
    "def stop_recording(recording_type: str):\n",
    "    \"\"\"Stop the audio recording.\"\"\"\n",
    "    os.makedirs(\"../tmp\", exist_ok=True)\n",
    "    audio_path = None\n",
    "\n",
    "    if not stream or not stream.active:\n",
    "        print(\"No active recording to stop.\")\n",
    "        return\n",
    "\n",
    "    stream.stop()\n",
    "    stream.close()\n",
    "    \n",
    "    if not recording:\n",
    "        print(\"No audio data recorded.\")\n",
    "        return\n",
    "\n",
    "    audio_data = np.concatenate(recording, axis=0)\n",
    "\n",
    "    audio_uid = str(uuid4())\n",
    "    audio_path = f\"../tmp/{audio_uid}.wav\"\n",
    "    write(audio_path, SAMPLERATE, audio_data)\n",
    "\n",
    "    docs = get_transcription(audio_path)\n",
    "    collection_name = \"test_collection\"\n",
    "\n",
    "    if recording_type == \"create\":\n",
    "        save_to_chroma(docs=docs, collection_name=collection_name)\n",
    "    elif recording_type == \"query\":\n",
    "        os.remove(audio_path)\n",
    "        query = \"\"\n",
    "        for doc in docs:\n",
    "            query += doc.page_content + \" \"\n",
    "        \n",
    "        print(f\"Querying ChromaDB with: {query.strip()}\")\n",
    "        result = retrieve_from_chroma(query=query, collection_name=collection_name, nResults=1)\n",
    "        if result:\n",
    "            audio_content = synthesize_speech(result)\n",
    "            audio_path = save_audio_to_file(audio_content, f\"../tmp/{audio_uid}.mp3\")\n",
    "    \n",
    "    return audio_path if audio_path else None"
   ]
  },
  {
   "cell_type": "markdown",
   "id": "437a402b",
   "metadata": {},
   "source": [
    "## Buttons"
   ]
  },
  {
   "cell_type": "code",
   "execution_count": 10,
   "id": "235e01dc",
   "metadata": {},
   "outputs": [],
   "source": [
    "# RECORDING_TYPE = \"create\"\n",
    "RECORDING_TYPE = \"query\""
   ]
  },
  {
   "cell_type": "code",
   "execution_count": 9,
   "id": "6742f099",
   "metadata": {},
   "outputs": [
    {
     "data": {
      "application/vnd.jupyter.widget-view+json": {
       "model_id": "69578ef1ee6348a9935a4a8a364bd0e5",
       "version_major": 2,
       "version_minor": 0
      },
      "text/plain": [
       "VBox(children=(HBox(children=(Button(button_style='success', description='Start recording', style=ButtonStyle(…"
      ]
     },
     "metadata": {},
     "output_type": "display_data"
    }
   ],
   "source": [
    "import glob\n",
    "import ipywidgets as widgets\n",
    "from IPython.display import display, Audio, clear_output\n",
    "\n",
    "# Widgets\n",
    "start_button = widgets.Button(description=\"Start recording\", button_style='success')\n",
    "stop_button = widgets.Button(description=\"Stop recording\", button_style='danger', disabled=True)\n",
    "status_label = widgets.HTML(value=\"<b>Ready to record</b>\")\n",
    "audio_output = widgets.Output()\n",
    "\n",
    "def on_start_click(_):\n",
    "    # Vider dossier tmp\n",
    "    if os.path.exists(\"../tmp\"):\n",
    "        for f in glob.glob(os.path.join(\"../tmp\", \"*\")):\n",
    "            os.remove(f)\n",
    "\n",
    "    start_button.disabled = True\n",
    "    stop_button.disabled = False\n",
    "    status_label.value = \"<b style='color: red;'>🔴 Recording...</b>\"\n",
    "    \n",
    "    # Clear previous audio\n",
    "    with audio_output:\n",
    "        clear_output()\n",
    "    \n",
    "    start_recording()\n",
    "\n",
    "def on_stop_click(_):\n",
    "    start_button.disabled = False\n",
    "    stop_button.disabled = True\n",
    "    status_label.value = \"<b style='color: orange;'>⏳ Processing...</b>\"\n",
    "\n",
    "    audio_path = stop_recording(RECORDING_TYPE)\n",
    "\n",
    "    if audio_path:\n",
    "        with audio_output:\n",
    "            clear_output(wait=True)\n",
    "            display(Audio(filename=audio_path, autoplay=False))\n",
    "        status_label.value = \"<b style='color: green;'>✅ Recording finished</b>\"\n",
    "        return None\n",
    "    else:\n",
    "        status_label.value = \"<b style='color: red;'>❌ Recording error</b>\"\n",
    "\n",
    "start_button.on_click(on_start_click)\n",
    "stop_button.on_click(on_stop_click)\n",
    "\n",
    "# Display interface\n",
    "def show_ui():\n",
    "    display(widgets.VBox([\n",
    "        widgets.HBox([start_button, stop_button]),\n",
    "        status_label,\n",
    "        audio_output\n",
    "    ]))\n",
    "\n",
    "show_ui()"
   ]
  }
 ],
 "metadata": {
  "kernelspec": {
   "display_name": ".venv",
   "language": "python",
   "name": "python3"
  },
  "language_info": {
   "codemirror_mode": {
    "name": "ipython",
    "version": 3
   },
   "file_extension": ".py",
   "mimetype": "text/x-python",
   "name": "python",
   "nbconvert_exporter": "python",
   "pygments_lexer": "ipython3",
   "version": "3.12.10"
  }
 },
 "nbformat": 4,
 "nbformat_minor": 5
}
