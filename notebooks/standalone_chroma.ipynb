{
 "cells": [
  {
   "cell_type": "markdown",
   "id": "217ee6c4",
   "metadata": {},
   "source": [
    "# Chroma DB Cloud integration\n",
    "\n",
    "https://docs.trychroma.com/docs/overview/getting-started"
   ]
  },
  {
   "cell_type": "code",
   "execution_count": 3,
   "id": "6cd8ccf7",
   "metadata": {},
   "outputs": [
    {
     "name": "stdout",
     "output_type": "stream",
     "text": [
      "Note: you may need to restart the kernel to use updated packages.\n"
     ]
    }
   ],
   "source": [
    "%pip install -qU chromadb python-dotenv langchain-chroma"
   ]
  },
  {
   "cell_type": "code",
   "execution_count": 4,
   "id": "ba166cf4",
   "metadata": {},
   "outputs": [
    {
     "data": {
      "text/plain": [
       "True"
      ]
     },
     "execution_count": 4,
     "metadata": {},
     "output_type": "execute_result"
    }
   ],
   "source": [
    "from dotenv import load_dotenv\n",
    "load_dotenv()"
   ]
  },
  {
   "cell_type": "markdown",
   "id": "d87a7ba4",
   "metadata": {},
   "source": [
    "### Functions"
   ]
  },
  {
   "cell_type": "code",
   "execution_count": 5,
   "id": "43d208e8",
   "metadata": {},
   "outputs": [],
   "source": [
    "# Instanciate chroma client\n",
    "\n",
    "import os\n",
    "import chromadb\n",
    "from chromadb.api import ClientAPI\n",
    "\n",
    "def get_chroma_client() -> ClientAPI:\n",
    "  chroma_client = chromadb.CloudClient(\n",
    "    api_key=os.getenv(\"CHROMA_API_KEY\"),\n",
    "    tenant=os.getenv(\"CHROMA_TENANT\"),\n",
    "    database=os.getenv(\"CHROMA_DATABASE\")\n",
    "  )\n",
    "\n",
    "  return chroma_client"
   ]
  },
  {
   "cell_type": "code",
   "execution_count": 6,
   "id": "2724f4e1",
   "metadata": {},
   "outputs": [],
   "source": [
    "# Instanciate langchain vector store\n",
    "\n",
    "from langchain_openai import OpenAIEmbeddings\n",
    "from langchain_chroma import Chroma\n",
    "\n",
    "def get_chroma_collection(collection_name: str):\n",
    "  collection = Chroma(\n",
    "      client=get_chroma_client(),\n",
    "      embedding_function=OpenAIEmbeddings(model=\"text-embedding-3-small\"),\n",
    "      collection_name=collection_name,\n",
    "  )\n",
    "\n",
    "  return collection"
   ]
  },
  {
   "cell_type": "code",
   "execution_count": 7,
   "id": "b3c17977",
   "metadata": {},
   "outputs": [
    {
     "data": {
      "text/plain": [
       "<langchain_chroma.vectorstores.Chroma at 0x111a72960>"
      ]
     },
     "execution_count": 7,
     "metadata": {},
     "output_type": "execute_result"
    }
   ],
   "source": [
    "get_chroma_collection(\"test_collection\")"
   ]
  },
  {
   "cell_type": "code",
   "execution_count": 9,
   "id": "71c0bce1",
   "metadata": {},
   "outputs": [
    {
     "name": "stdout",
     "output_type": "stream",
     "text": [
      "Note: you may need to restart the kernel to use updated packages.\n"
     ]
    }
   ],
   "source": [
    "%pip install -q uuid"
   ]
  },
  {
   "cell_type": "code",
   "execution_count": 10,
   "id": "46f8fef0",
   "metadata": {},
   "outputs": [
    {
     "data": {
      "text/plain": [
       "['8b609594-c5c4-455e-bb66-dc4c3022e36a',\n",
       " '5079f18a-56b0-41da-bd14-c2f7cf333751',\n",
       " '68631453-bd3f-4062-9950-c1ccba0d8bba']"
      ]
     },
     "execution_count": 10,
     "metadata": {},
     "output_type": "execute_result"
    }
   ],
   "source": [
    "# Add documents\n",
    "\n",
    "from uuid import uuid4\n",
    "from langchain_core.documents import Document\n",
    "\n",
    "document_1 = Document(page_content=\"Ceci est un document de test. Je suis en train de tester l'embedding.\", metadata={\"tag\": \"test\"})\n",
    "document_2 = Document(page_content=\"Ceci est un document de production. Je suis en train de tester l'embedding pour la production.\", metadata={\"tag\": \"prod\"})\n",
    "document_3 = Document(page_content=\"Ma nourriture préférée est la pizza.\", metadata={\"tag\": \"nourriture\"})\n",
    "\n",
    "documents = [document_1, document_2, document_3]\n",
    "\n",
    "uuids = [str(uuid4()) for _ in range(len(documents))]\n",
    "\n",
    "collection = get_chroma_collection(\"test_collection\")\n",
    "collection.add_documents(documents=documents, ids=uuids)"
   ]
  },
  {
   "cell_type": "code",
   "execution_count": 15,
   "id": "4b007c61",
   "metadata": {},
   "outputs": [
    {
     "data": {
      "text/plain": [
       "['1de3cfd6-e178-4b7a-8a4d-d7b9e704305c']"
      ]
     },
     "execution_count": 15,
     "metadata": {},
     "output_type": "execute_result"
    }
   ],
   "source": [
    "document_4 = Document(page_content=\"J'adore également les sushis.\", metadata={\"tag\": \"mourritures\"})\n",
    "\n",
    "collection.add_documents(documents=[document_4], ids=[str(uuid4())])"
   ]
  },
  {
   "cell_type": "code",
   "execution_count": 16,
   "id": "44e493b6",
   "metadata": {},
   "outputs": [],
   "source": [
    "# Update document (one or many)\n",
    "\n",
    "updated_document_4 = Document(\n",
    "    page_content=\"J'adore également les sushis.\",\n",
    "    metadata={\"tag\": \"nourriture\"},\n",
    "    id=str(uuid4()),\n",
    ")\n",
    "\n",
    "collection.update_documents(ids=[\"1de3cfd6-e178-4b7a-8a4d-d7b9e704305c\"], documents=[updated_document_4])"
   ]
  },
  {
   "cell_type": "code",
   "execution_count": 12,
   "id": "c05befdf",
   "metadata": {},
   "outputs": [],
   "source": [
    "# Update document (one or many)\n",
    "\n",
    "updated_document_1 = Document(\n",
    "    page_content=\"J'adore le chocolat !\",\n",
    "    metadata={\"tag\": \"nourriture\"},\n",
    "    id=str(uuid4()),\n",
    ")\n",
    "\n",
    "collection.update_documents(ids=uuids[:1], documents=[updated_document_1])"
   ]
  },
  {
   "cell_type": "code",
   "execution_count": null,
   "id": "4ab6fd03",
   "metadata": {},
   "outputs": [],
   "source": [
    "# Delete document\n",
    "\n",
    "collection.delete(ids=[uuids[-1]])"
   ]
  },
  {
   "cell_type": "code",
   "execution_count": 19,
   "id": "6df2a7fb",
   "metadata": {},
   "outputs": [
    {
     "name": "stdout",
     "output_type": "stream",
     "text": [
      "[Document(id='68631453-bd3f-4062-9950-c1ccba0d8bba', metadata={'tag': 'nourriture'}, page_content='Ma nourriture préférée est la pizza.')]\n",
      "[Document(id='8b609594-c5c4-455e-bb66-dc4c3022e36a', metadata={'tag': 'nourriture'}, page_content=\"J'adore le chocolat !\")]\n",
      "[Document(id='68631453-bd3f-4062-9950-c1ccba0d8bba', metadata={'tag': 'nourriture'}, page_content='Ma nourriture préférée est la pizza.')]\n",
      "[Document(id='8b609594-c5c4-455e-bb66-dc4c3022e36a', metadata={'tag': 'nourriture'}, page_content=\"J'adore le chocolat !\")]\n"
     ]
    }
   ],
   "source": [
    "# Query by retriever\n",
    "\n",
    "retriever = collection.as_retriever(\n",
    "    search_type=\"mmr\", search_kwargs={\"k\": 1, \"fetch_k\": 5}\n",
    ")\n",
    "\n",
    "print(retriever.invoke(\"Quelle est ma nourriture préférée ?\", filter=None, score_threshold=0))\n",
    "print(retriever.invoke(\"Est-ce que j'aime le chocolat ?\", filter=None, score_threshold=0))\n",
    "print(retriever.invoke(\"What is my favorite dinner?\", filter=None, score_threshold=0))\n",
    "print(retriever.invoke(\"What is my favorite dessert?\", filter=None, score_threshold=0))\n",
    "\n"
   ]
  }
 ],
 "metadata": {
  "kernelspec": {
   "display_name": ".venv",
   "language": "python",
   "name": "python3"
  },
  "language_info": {
   "codemirror_mode": {
    "name": "ipython",
    "version": 3
   },
   "file_extension": ".py",
   "mimetype": "text/x-python",
   "name": "python",
   "nbconvert_exporter": "python",
   "pygments_lexer": "ipython3",
   "version": "3.12.10"
  }
 },
 "nbformat": 4,
 "nbformat_minor": 5
}
