{
 "cells": [
  {
   "cell_type": "markdown",
   "id": "df6c3ef3",
   "metadata": {},
   "source": [
    "# Audio Transcription with OpenAI's Whisper"
   ]
  },
  {
   "cell_type": "code",
   "execution_count": 1,
   "id": "3be85fbd",
   "metadata": {},
   "outputs": [
    {
     "name": "stdout",
     "output_type": "stream",
     "text": [
      "Note: you may need to restart the kernel to use updated packages.\n"
     ]
    }
   ],
   "source": [
    "%pip install -qU langchain-openai langchain-community pydub librosa"
   ]
  },
  {
   "cell_type": "code",
   "execution_count": 2,
   "id": "8d4f9146",
   "metadata": {},
   "outputs": [],
   "source": [
    "import os\n",
    "from dotenv import load_dotenv, find_dotenv\n",
    "\n",
    "load_dotenv(find_dotenv())\n",
    "\n",
    "OPENAI_API_KEY  = os.getenv('OPENAI_API_KEY')"
   ]
  },
  {
   "cell_type": "markdown",
   "id": "0c62099c",
   "metadata": {},
   "source": [
    "## Load the test audio"
   ]
  },
  {
   "cell_type": "code",
   "execution_count": 12,
   "id": "a763fac2",
   "metadata": {},
   "outputs": [],
   "source": [
    "local = False"
   ]
  },
  {
   "cell_type": "code",
   "execution_count": null,
   "id": "804ec234",
   "metadata": {},
   "outputs": [],
   "source": [
    "from langchain_community.document_loaders.parsers.audio import (\n",
    "    OpenAIWhisperParser,\n",
    "    OpenAIWhisperParserLocal,\n",
    ")\n",
    "\n",
    "# Load the OpenAI Whisper parser with the necessary configurations\n",
    "if local:\n",
    "    parser = OpenAIWhisperParserLocal(\n",
    "      device=\"cpu\",  # Use \"cuda\" for GPU support if available\n",
    "      lang_model=\"whisper-1\",  # Specify the Whisper model to use\n",
    "      batch_size=1,  # Set the batch size for processing\n",
    "      chunk_length=30,  # seconds\n",
    "      language=\"fr\",  # Specify the language of the audio\n",
    "    )\n",
    "else:\n",
    "    parser = OpenAIWhisperParser(\n",
    "      api_key=OPENAI_API_KEY,\n",
    "      language=\"fr\",  # Specify the language of the audio\n",
    "      response_format=\"json\",  # Specify the response format\n",
    "      model=\"whisper-1\"  # Specify the Whisper model to use\n",
    "    )"
   ]
  },
  {
   "cell_type": "code",
   "execution_count": null,
   "id": "d538eed1",
   "metadata": {},
   "outputs": [
    {
     "name": "stdout",
     "output_type": "stream",
     "text": [
      "Transcribing part 1!\n"
     ]
    }
   ],
   "source": [
    "from pathlib import Path\n",
    "from langchain_community.document_loaders.generic import GenericLoader\n",
    "from langchain_community.document_loaders.blob_loaders import FileSystemBlobLoader\n",
    "\n",
    "audio_path = Path.cwd().parent / \"data\" / \"audio\" / \"test_whisper.m4a\"\n",
    "blob_loader = FileSystemBlobLoader(audio_path)\n",
    "\n",
    "loader = GenericLoader(blob_loader, parser)\n",
    "\n",
    "docs = loader.load()"
   ]
  },
  {
   "cell_type": "code",
   "execution_count": 16,
   "id": "fa068a96",
   "metadata": {},
   "outputs": [
    {
     "name": "stdout",
     "output_type": "stream",
     "text": [
      "Transcription : Bonjour, je m'appelle Joachim Jasmin. Ceci est un enregistrement.\n"
     ]
    }
   ],
   "source": [
    "for doc in docs:\n",
    "    print(\"Transcription :\", doc.page_content)"
   ]
  }
 ],
 "metadata": {
  "kernelspec": {
   "display_name": ".venv",
   "language": "python",
   "name": "python3"
  },
  "language_info": {
   "codemirror_mode": {
    "name": "ipython",
    "version": 3
   },
   "file_extension": ".py",
   "mimetype": "text/x-python",
   "name": "python",
   "nbconvert_exporter": "python",
   "pygments_lexer": "ipython3",
   "version": "3.12.10"
  }
 },
 "nbformat": 4,
 "nbformat_minor": 5
}
