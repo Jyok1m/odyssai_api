{
 "cells": [
  {
   "cell_type": "markdown",
   "id": "df6c3ef3",
   "metadata": {},
   "source": [
    "# Audio Transcription with OpenAI's Whisper"
   ]
  },
  {
   "cell_type": "code",
   "execution_count": 1,
   "id": "3be85fbd",
   "metadata": {},
   "outputs": [
    {
     "name": "stdout",
     "output_type": "stream",
     "text": [
      "Note: you may need to restart the kernel to use updated packages.\n"
     ]
    }
   ],
   "source": [
    "%pip install -qU langchain-openai langchain-community pydub librosa"
   ]
  },
  {
   "cell_type": "code",
   "execution_count": 2,
   "id": "8d4f9146",
   "metadata": {},
   "outputs": [],
   "source": [
    "import os\n",
    "from dotenv import load_dotenv, find_dotenv\n",
    "\n",
    "load_dotenv(find_dotenv())\n",
    "\n",
    "OPENAI_API_KEY  = os.getenv('OPENAI_API_KEY')"
   ]
  },
  {
   "cell_type": "markdown",
   "id": "0c62099c",
   "metadata": {},
   "source": [
    "## Load the test audio"
   ]
  },
  {
   "cell_type": "code",
   "execution_count": null,
   "id": "a763fac2",
   "metadata": {},
   "outputs": [],
   "source": [
    "# local = False"
   ]
  },
  {
   "cell_type": "markdown",
   "id": "5fabef5b",
   "metadata": {},
   "source": [
    "Finally, I won't be doing any local call. But this remains an option depending on my future infrastructure."
   ]
  },
  {
   "cell_type": "code",
   "execution_count": null,
   "id": "804ec234",
   "metadata": {},
   "outputs": [],
   "source": [
    "# from langchain_community.document_loaders.parsers.audio import (\n",
    "#     OpenAIWhisperParser,\n",
    "#     # OpenAIWhisperParserLocal,\n",
    "# )\n",
    "\n",
    "# Drop the local parsing for now.\n",
    "\n",
    "# Load the OpenAI Whisper parser with the necessary configurations\n",
    "# if local:\n",
    "#     parser = OpenAIWhisperParserLocal(\n",
    "#       device=\"cpu\",  # Use \"cuda\" for GPU support if available\n",
    "#       lang_model=\"whisper-1\",  # Specify the Whisper model to use\n",
    "#       batch_size=1,  # Set the batch size for processing\n",
    "#       chunk_length=30,  # seconds\n",
    "#       language=\"fr\",  # Specify the language of the audio\n",
    "#     )\n",
    "# else:\n"
   ]
  },
  {
   "cell_type": "markdown",
   "id": "f779d78a",
   "metadata": {},
   "source": [
    "We initiatie the OpenAIWhisperParser"
   ]
  },
  {
   "cell_type": "code",
   "execution_count": 4,
   "id": "bc658a74",
   "metadata": {},
   "outputs": [],
   "source": [
    "from langchain_community.document_loaders.parsers.audio import OpenAIWhisperParser\n",
    "\n",
    "parser = OpenAIWhisperParser(\n",
    "  api_key=OPENAI_API_KEY,\n",
    "  chunk_duration_threshold=0.7, # means the parser will disregard audio chunks shorter than 0.7 seconds\n",
    "  language=\"fr\",  # Specify the language of the audio\n",
    "  response_format=\"text\",\n",
    "  temperature=0.0, # deterministic\n",
    "  model=\"whisper-1\"\n",
    ")"
   ]
  },
  {
   "cell_type": "code",
   "execution_count": 13,
   "id": "d538eed1",
   "metadata": {},
   "outputs": [
    {
     "name": "stdout",
     "output_type": "stream",
     "text": [
      "Transcribing part 1!\n"
     ]
    }
   ],
   "source": [
    "from langchain_community.document_loaders.generic import GenericLoader\n",
    "\n",
    "# Define the path to the audio file\n",
    "audio_path = \"../data/audio/test_whisper_clovis.m4a\"\n",
    "\n",
    "# Create a GenericLoader instance with the audio file and the parser\n",
    "# https://python.langchain.com/api_reference/community/document_loaders/langchain_community.document_loaders.generic.GenericLoader.html\n",
    "loader = GenericLoader.from_filesystem(audio_path, parser=parser)\n",
    "\n",
    "# Load the documents using the loader\n",
    "docs = loader.load()"
   ]
  },
  {
   "cell_type": "code",
   "execution_count": 16,
   "id": "fa068a96",
   "metadata": {},
   "outputs": [
    {
     "name": "stdout",
     "output_type": "stream",
     "text": [
      "Transcription : Bonjour, j'aimerais savoir quelle est la situation géopolitique de Cuba actuellement le 15 juillet à 17h11.\n",
      "\n",
      "Metadata : {'source': '../data/audio/test_whisper_clovis.m4a', 'chunk': 0}\n"
     ]
    }
   ],
   "source": [
    "for doc in docs:\n",
    "    print(\"Transcription :\", doc.page_content)\n",
    "    print(\"Metadata :\", doc.metadata)"
   ]
  },
  {
   "cell_type": "code",
   "execution_count": 17,
   "id": "8ec7db6a",
   "metadata": {},
   "outputs": [
    {
     "name": "stdout",
     "output_type": "stream",
     "text": [
      "Transcribing part 1!\n",
      "Transcription : Bonjour, je m'appelle Joachim Jasmin. Ceci est un enregistrement.\n",
      "\n",
      "Metadata : {'source': '../data/audio/test_whisper.m4a', 'chunk': 0}\n"
     ]
    }
   ],
   "source": [
    "audio_path = \"../data/audio/test_whisper.m4a\"\n",
    "\n",
    "loader = GenericLoader.from_filesystem(audio_path, parser=parser)\n",
    "\n",
    "# Load the documents using the loader\n",
    "docs = loader.load()\n",
    "\n",
    "for doc in docs:\n",
    "    print(\"Transcription :\", doc.page_content)\n",
    "    print(\"Metadata :\", doc.metadata)"
   ]
  },
  {
   "cell_type": "code",
   "execution_count": 20,
   "id": "3bd7b87d",
   "metadata": {},
   "outputs": [
    {
     "name": "stdout",
     "output_type": "stream",
     "text": [
      "Transcribing part 1!\n",
      "Transcription : Bonjour, ceci est un autre test, je suis en train de tester Whisper, je suis en train de tester la transcription automatique de ma voix, Whisper c'est trop bien.\n",
      "\n",
      "Metadata : {'source': '../data/audio/test_whisper_2.m4a', 'chunk': 0}\n"
     ]
    }
   ],
   "source": [
    "audio_path = \"../data/audio/test_whisper_2.m4a\"\n",
    "\n",
    "loader = GenericLoader.from_filesystem(audio_path, parser=parser)\n",
    "\n",
    "# Load the documents using the loader\n",
    "docs = loader.load()\n",
    "\n",
    "for doc in docs:\n",
    "    print(\"Transcription :\", doc.page_content)\n",
    "    print(\"Metadata :\", doc.metadata)"
   ]
  }
 ],
 "metadata": {
  "kernelspec": {
   "display_name": ".venv",
   "language": "python",
   "name": "python3"
  },
  "language_info": {
   "codemirror_mode": {
    "name": "ipython",
    "version": 3
   },
   "file_extension": ".py",
   "mimetype": "text/x-python",
   "name": "python",
   "nbconvert_exporter": "python",
   "pygments_lexer": "ipython3",
   "version": "3.12.10"
  }
 },
 "nbformat": 4,
 "nbformat_minor": 5
}
