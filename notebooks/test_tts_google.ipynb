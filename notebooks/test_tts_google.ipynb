{
 "cells": [
  {
   "cell_type": "markdown",
   "id": "2fce73da",
   "metadata": {},
   "source": [
    "# Test for TTS Google\n",
    "\n",
    "Link to [Google TTS](https://python.langchain.com/docs/integrations/tools/google_cloud_texttospeech/)"
   ]
  },
  {
   "cell_type": "markdown",
   "id": "cb9d5f11",
   "metadata": {},
   "source": [
    "## Setup google account\n",
    "\n",
    "Link to [Google Cloud Console Tutorial](https://cloud.google.com/text-to-speech?hl=fr)"
   ]
  },
  {
   "cell_type": "markdown",
   "id": "4f6496fd",
   "metadata": {},
   "source": []
  }
 ],
 "metadata": {
  "kernelspec": {
   "display_name": ".venv",
   "language": "python",
   "name": "python3"
  },
  "language_info": {
   "name": "python",
   "version": "3.12.10"
  }
 },
 "nbformat": 4,
 "nbformat_minor": 5
}
